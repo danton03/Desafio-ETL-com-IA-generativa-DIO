{
  "nbformat": 4,
  "nbformat_minor": 0,
  "metadata": {
    "colab": {
      "provenance": [],
      "authorship_tag": "ABX9TyOf1UoryHeoBaaH3narLOpf",
      "include_colab_link": true
    },
    "kernelspec": {
      "name": "python3",
      "display_name": "Python 3"
    },
    "language_info": {
      "name": "python"
    }
  },
  "cells": [
    {
      "cell_type": "markdown",
      "metadata": {
        "id": "view-in-github",
        "colab_type": "text"
      },
      "source": [
        "<a href=\"https://colab.research.google.com/github/danton03/Desafio-ETL-com-IA-generativa-DIO/blob/main/DesafioETL_DIO.ipynb\" target=\"_parent\"><img src=\"https://colab.research.google.com/assets/colab-badge.svg\" alt=\"Open In Colab\"/></a>"
      ]
    },
    {
      "cell_type": "markdown",
      "source": [
        "# Desafio DIO - Explorando IA Generativa em um Pipeline de ETL com Python"
      ],
      "metadata": {
        "id": "DBW5-VCDuI-w"
      }
    },
    {
      "cell_type": "markdown",
      "source": [
        "**E**xtract\n"
      ],
      "metadata": {
        "id": "gNDeNt72sANK"
      }
    },
    {
      "cell_type": "code",
      "execution_count": null,
      "metadata": {
        "colab": {
          "base_uri": "https://localhost:8080/"
        },
        "id": "ez6i2S6qoZ22",
        "outputId": "883d6efa-a70c-466f-dd09-5e492a225014"
      },
      "outputs": [
        {
          "output_type": "stream",
          "name": "stdout",
          "text": [
            "[5170, 5171, 5172]\n"
          ]
        }
      ],
      "source": [
        "#Passo 1: Extrair todos os dados desejados da planilha\n",
        "import pandas as pd\n",
        "\n",
        "dataframe = pd.read_csv('SDW2023.csv')\n",
        "user_ids = dataframe['UserID'].tolist() #pega todos os dados da coluna UserID\n",
        "print(user_ids)"
      ]
    },
    {
      "cell_type": "code",
      "source": [
        "#Passo 2: Obter todos os dados de cada ID usando a API do santander dev week\n",
        "import requests\n",
        "import json\n",
        "\n",
        "api_base_url = 'https://sdw-2023-prd.up.railway.app'\n",
        "\n",
        "def get_user(id):\n",
        "  response = requests.get(f'{api_base_url}/users/{id}')\n",
        "  return response.json() if response.status_code == 200 else None\n",
        "\n",
        "users = [user for id in user_ids if((user := get_user(id)) is not None)] #compreensão de listas com walrus operator\n",
        "print(json.dumps(users, indent=2))"
      ],
      "metadata": {
        "colab": {
          "base_uri": "https://localhost:8080/"
        },
        "id": "IOlK9kncr-Ll",
        "outputId": "3db788b8-f1ad-4392-b85e-e007eab9b59c"
      },
      "execution_count": null,
      "outputs": [
        {
          "output_type": "stream",
          "name": "stdout",
          "text": [
            "[\n",
            "  {\n",
            "    \"id\": 5170,\n",
            "    \"name\": \"ludmilo\",\n",
            "    \"account\": {\n",
            "      \"id\": 5501,\n",
            "      \"number\": \"18166-0\",\n",
            "      \"agency\": \"0011\",\n",
            "      \"balance\": 0.0,\n",
            "      \"limit\": 0.0\n",
            "    },\n",
            "    \"card\": {\n",
            "      \"id\": 5029,\n",
            "      \"number\": \"5500 0205 6742 1816\",\n",
            "      \"limit\": 1000.0\n",
            "    },\n",
            "    \"features\": [],\n",
            "    \"news\": [\n",
            "      {\n",
            "        \"id\": 9604,\n",
            "        \"icon\": \"https://digitalinnovationone.github.io/santander-dev-week-2023-api/icons/credit.svg\",\n",
            "        \"description\": \"Hi Ludmilo,\\nInvesting is the key to building wealth. Start small and learn as you go. #investing #finance #wealth\"\n",
            "      }\n",
            "    ]\n",
            "  },\n",
            "  {\n",
            "    \"id\": 5171,\n",
            "    \"name\": \"princeso\",\n",
            "    \"account\": {\n",
            "      \"id\": 5502,\n",
            "      \"number\": \"17132-0\",\n",
            "      \"agency\": \"0011\",\n",
            "      \"balance\": 0.0,\n",
            "      \"limit\": 0.0\n",
            "    },\n",
            "    \"card\": {\n",
            "      \"id\": 5030,\n",
            "      \"number\": \"5500 0205 6742 7132\",\n",
            "      \"limit\": 1000.0\n",
            "    },\n",
            "    \"features\": [],\n",
            "    \"news\": [\n",
            "      {\n",
            "        \"id\": 9605,\n",
            "        \"icon\": \"https://digitalinnovationone.github.io/santander-dev-week-2023-api/icons/credit.svg\",\n",
            "        \"description\": \"Dear PrinceSo,\\n\\nInvesting is the key to building wealth and achieving your financial goals. Start early and learn from the experts.\"\n",
            "      }\n",
            "    ]\n",
            "  },\n",
            "  {\n",
            "    \"id\": 5172,\n",
            "    \"name\": \"Pedro Ribeiro\",\n",
            "    \"account\": {\n",
            "      \"id\": 5503,\n",
            "      \"number\": \"0008-5\",\n",
            "      \"agency\": \"0008\",\n",
            "      \"balance\": 0.0,\n",
            "      \"limit\": 500.0\n",
            "    },\n",
            "    \"card\": {\n",
            "      \"id\": 5031,\n",
            "      \"number\": \"1111 5555 6666 8888\",\n",
            "      \"limit\": 2000.0\n",
            "    },\n",
            "    \"features\": [],\n",
            "    \"news\": [\n",
            "      {\n",
            "        \"id\": 9606,\n",
            "        \"icon\": \"https://digitalinnovationone.github.io/santander-dev-week-2023-api/icons/credit.svg\",\n",
            "        \"description\": \"**Pedro Ribeiro,**\\n\\nInvesting is the key to building wealth and securing your financial future. Start today with a small amount and watch it grow over time.\"\n",
            "      }\n",
            "    ]\n",
            "  }\n",
            "]\n"
          ]
        }
      ]
    },
    {
      "cell_type": "markdown",
      "source": [
        "**T**ransformação"
      ],
      "metadata": {
        "id": "zpDdXiHc1ggd"
      }
    },
    {
      "cell_type": "code",
      "source": [
        "#Instalar a biblioteca do Google Palm (Bard)\n",
        "!pip install google-generativeai"
      ],
      "metadata": {
        "colab": {
          "base_uri": "https://localhost:8080/",
          "height": 584
        },
        "id": "sFPrWR2xArzB",
        "outputId": "1fddb7d6-a84e-4cd9-b407-82f80bb5ba0f"
      },
      "execution_count": null,
      "outputs": [
        {
          "output_type": "stream",
          "name": "stdout",
          "text": [
            "Collecting google-generativeai\n",
            "  Downloading google_generativeai-0.2.1-py3-none-any.whl (130 kB)\n",
            "\u001b[2K     \u001b[90m━━━━━━━━━━━━━━━━━━━━━━━━━━━━━━━━━━━━━━━━\u001b[0m \u001b[32m130.7/130.7 kB\u001b[0m \u001b[31m2.8 MB/s\u001b[0m eta \u001b[36m0:00:00\u001b[0m\n",
            "\u001b[?25hCollecting google-ai-generativelanguage==0.3.3 (from google-generativeai)\n",
            "  Downloading google_ai_generativelanguage-0.3.3-py3-none-any.whl (267 kB)\n",
            "\u001b[2K     \u001b[90m━━━━━━━━━━━━━━━━━━━━━━━━━━━━━━━━━━━━━━━━\u001b[0m \u001b[32m267.9/267.9 kB\u001b[0m \u001b[31m13.6 MB/s\u001b[0m eta \u001b[36m0:00:00\u001b[0m\n",
            "\u001b[?25hRequirement already satisfied: google-auth in /usr/local/lib/python3.10/dist-packages (from google-generativeai) (2.17.3)\n",
            "Requirement already satisfied: google-api-core in /usr/local/lib/python3.10/dist-packages (from google-generativeai) (2.11.1)\n",
            "Requirement already satisfied: protobuf in /usr/local/lib/python3.10/dist-packages (from google-generativeai) (3.20.3)\n",
            "Requirement already satisfied: tqdm in /usr/local/lib/python3.10/dist-packages (from google-generativeai) (4.66.1)\n",
            "Requirement already satisfied: proto-plus<2.0.0dev,>=1.22.0 in /usr/local/lib/python3.10/dist-packages (from google-ai-generativelanguage==0.3.3->google-generativeai) (1.22.3)\n",
            "Requirement already satisfied: googleapis-common-protos<2.0.dev0,>=1.56.2 in /usr/local/lib/python3.10/dist-packages (from google-api-core->google-generativeai) (1.60.0)\n",
            "Requirement already satisfied: requests<3.0.0.dev0,>=2.18.0 in /usr/local/lib/python3.10/dist-packages (from google-api-core->google-generativeai) (2.31.0)\n",
            "Requirement already satisfied: cachetools<6.0,>=2.0.0 in /usr/local/lib/python3.10/dist-packages (from google-auth->google-generativeai) (5.3.1)\n",
            "Requirement already satisfied: pyasn1-modules>=0.2.1 in /usr/local/lib/python3.10/dist-packages (from google-auth->google-generativeai) (0.3.0)\n",
            "Requirement already satisfied: six>=1.9.0 in /usr/local/lib/python3.10/dist-packages (from google-auth->google-generativeai) (1.16.0)\n",
            "Requirement already satisfied: rsa<5,>=3.1.4 in /usr/local/lib/python3.10/dist-packages (from google-auth->google-generativeai) (4.9)\n",
            "Requirement already satisfied: grpcio<2.0dev,>=1.33.2 in /usr/local/lib/python3.10/dist-packages (from google-api-core->google-generativeai) (1.59.0)\n",
            "Requirement already satisfied: grpcio-status<2.0.dev0,>=1.33.2 in /usr/local/lib/python3.10/dist-packages (from google-api-core->google-generativeai) (1.48.2)\n",
            "Requirement already satisfied: pyasn1<0.6.0,>=0.4.6 in /usr/local/lib/python3.10/dist-packages (from pyasn1-modules>=0.2.1->google-auth->google-generativeai) (0.5.0)\n",
            "Requirement already satisfied: charset-normalizer<4,>=2 in /usr/local/lib/python3.10/dist-packages (from requests<3.0.0.dev0,>=2.18.0->google-api-core->google-generativeai) (3.3.0)\n",
            "Requirement already satisfied: idna<4,>=2.5 in /usr/local/lib/python3.10/dist-packages (from requests<3.0.0.dev0,>=2.18.0->google-api-core->google-generativeai) (3.4)\n",
            "Requirement already satisfied: urllib3<3,>=1.21.1 in /usr/local/lib/python3.10/dist-packages (from requests<3.0.0.dev0,>=2.18.0->google-api-core->google-generativeai) (2.0.6)\n",
            "Requirement already satisfied: certifi>=2017.4.17 in /usr/local/lib/python3.10/dist-packages (from requests<3.0.0.dev0,>=2.18.0->google-api-core->google-generativeai) (2023.7.22)\n",
            "Installing collected packages: google-ai-generativelanguage, google-generativeai\n",
            "Successfully installed google-ai-generativelanguage-0.3.3 google-generativeai-0.2.1\n"
          ]
        },
        {
          "output_type": "display_data",
          "data": {
            "application/vnd.colab-display-data+json": {
              "pip_warning": {
                "packages": [
                  "google"
                ]
              }
            }
          },
          "metadata": {}
        }
      ]
    },
    {
      "cell_type": "code",
      "source": [
        "import google.generativeai as palm\n",
        "\n",
        "#Criar uma variável de ambiente com a API Key da PaLM AI\n",
        "palm_api_key = 'COLOQUE SUA API KEY AQUI'\n",
        "\n",
        "#Utilizar a API da PaLM AI\n",
        "palm.configure(api_key=palm_api_key)\n",
        "\n",
        "def generate_ai_news(user):\n",
        "  response = palm.generate_text(prompt=f\"Imagine that you are a marketing expert. Create a message in for {user['name']}, including the name, about the importance of investing. (maximum of 100 characters)\")\n",
        "  return response.result.strip('\\\"')\n",
        "\n",
        "for user in users:\n",
        "  news = generate_ai_news(user)\n",
        "  print(news)\n",
        "  user['news'].append({\n",
        "      \"icon\": \"https://digitalinnovationone.github.io/santander-dev-week-2023-api/icons/credit.svg\",\n",
        "      \"description\": news\n",
        "  })"
      ],
      "metadata": {
        "colab": {
          "base_uri": "https://localhost:8080/"
        },
        "id": "CDylfxu25FSz",
        "outputId": "7ffdbc66-efda-4185-a4a9-0729f47475d8"
      },
      "execution_count": null,
      "outputs": [
        {
          "output_type": "stream",
          "name": "stdout",
          "text": [
            "Hi Ludmilo,\n",
            "Investing is the key to building wealth. Start small and learn as you go. #investing #finance #wealth\n",
            "Dear PrinceSo,\n",
            "\n",
            "Investing is the key to building wealth and achieving your financial goals. Start early and learn from the experts.\n",
            "**Pedro Ribeiro,**\n",
            "\n",
            "Investing is the key to building wealth and securing your financial future. Start today with a small amount and watch it grow over time.\n"
          ]
        }
      ]
    },
    {
      "cell_type": "markdown",
      "source": [
        "**L**oad"
      ],
      "metadata": {
        "id": "qSJ6uQUhYCOJ"
      }
    },
    {
      "cell_type": "code",
      "source": [
        "#Atualizar a lista de news na API do Santander dev week com os dados enriquecidos\n",
        "\n",
        "def update_user(user):\n",
        "  route = str(f\"{api_base_url}/users/{user['id']}\")\n",
        "  response = requests.put(route, json=user)\n",
        "  return True if response.status_code == 200 else False\n",
        "\n",
        "for user in users:\n",
        "  success = update_user(user)\n",
        "  print(f\"User {user['name']} updated? {success}\")"
      ],
      "metadata": {
        "colab": {
          "base_uri": "https://localhost:8080/"
        },
        "id": "O5-0i57qYBwV",
        "outputId": "0c3e1179-1a11-4901-d20e-a74945fbac71"
      },
      "execution_count": null,
      "outputs": [
        {
          "output_type": "stream",
          "name": "stdout",
          "text": [
            "User ludmilo updated? True\n",
            "User princeso updated? True\n",
            "User Pedro Ribeiro updated? True\n"
          ]
        }
      ]
    }
  ]
}